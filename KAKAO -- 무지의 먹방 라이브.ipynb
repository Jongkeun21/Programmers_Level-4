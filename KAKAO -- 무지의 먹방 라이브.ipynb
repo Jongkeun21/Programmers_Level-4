{
 "cells": [
  {
   "cell_type": "code",
   "execution_count": null,
   "metadata": {},
   "outputs": [],
   "source": [
    "import heapq\n",
    "\n",
    "def solution(food_times, k) :\n",
    "    heap = []\n",
    "    total = 0\n",
    "    length = 0\n",
    "\n",
    "    for i in range(len(food_times)) :\n",
    "        heapq.heappush(heap, [food_times[i], i])\n",
    "        total += food_times[i]\n",
    "        length += 1\n",
    "        \n",
    "    if total <= k :\n",
    "        return -1\n",
    "    else :\n",
    "        mins = heap[0][0]\n",
    "        prev = 0\n",
    "\n",
    "        while k >= (mins-prev)*length :\n",
    "            k -= (mins-prev)*length\n",
    "            prev = mins\n",
    "            count = 0\n",
    "\n",
    "            while heap[0][0] <= prev :\n",
    "                heapq.heappop(heap)\n",
    "                count += 1\n",
    "                \n",
    "            length -= count\n",
    "            mins = heap[0][0]\n",
    "        \n",
    "        heap.sort(key=lambda y: y[1])\n",
    "        \n",
    "        return heap[(k%length)][1] + 1"
   ]
  }
 ],
 "metadata": {
  "kernelspec": {
   "display_name": "Python 3",
   "language": "python",
   "name": "python3"
  },
  "language_info": {
   "codemirror_mode": {
    "name": "ipython",
    "version": 3
   },
   "file_extension": ".py",
   "mimetype": "text/x-python",
   "name": "python",
   "nbconvert_exporter": "python",
   "pygments_lexer": "ipython3",
   "version": "3.5.2"
  }
 },
 "nbformat": 4,
 "nbformat_minor": 2
}
