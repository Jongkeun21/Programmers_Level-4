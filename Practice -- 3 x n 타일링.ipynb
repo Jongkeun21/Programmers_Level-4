{
 "cells": [
  {
   "cell_type": "code",
   "execution_count": 4,
   "metadata": {},
   "outputs": [],
   "source": [
    "def solution(n) :\n",
    "    dic = {2: 3, 4: 11}\n",
    "    \n",
    "    if n in dic :\n",
    "        return dic[n]%1000000007\n",
    "    else :\n",
    "        for i in range(6, n+1, 2) :\n",
    "            dic[i] = dic[i-2]*4 - dic[i-4]\n",
    "    \n",
    "        return dic[n]%1000000007"
   ]
  }
 ],
 "metadata": {
  "kernelspec": {
   "display_name": "Python 3",
   "language": "python",
   "name": "python3"
  },
  "language_info": {
   "codemirror_mode": {
    "name": "ipython",
    "version": 3
   },
   "file_extension": ".py",
   "mimetype": "text/x-python",
   "name": "python",
   "nbconvert_exporter": "python",
   "pygments_lexer": "ipython3",
   "version": "3.7.3"
  }
 },
 "nbformat": 4,
 "nbformat_minor": 2
}
