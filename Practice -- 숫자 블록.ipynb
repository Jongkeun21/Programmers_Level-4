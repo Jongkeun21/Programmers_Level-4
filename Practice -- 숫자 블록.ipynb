{
 "cells": [
  {
   "cell_type": "code",
   "execution_count": 24,
   "metadata": {},
   "outputs": [],
   "source": [
    "def solution(begin, end) :\n",
    "    result = []\n",
    "\n",
    "    for i in range(begin, end+1) :\n",
    "        if i == 1 :\n",
    "            result.append(0)\n",
    "        else :\n",
    "            flag = True\n",
    "\n",
    "            for j in range(2, int(i**0.5)+1) :\n",
    "                if i%j == 0 and i//j < 10000001 :\n",
    "                    result.append(i//j)\n",
    "                    flag = False\n",
    "                    break\n",
    "\n",
    "            if flag :\n",
    "                result.append(1)\n",
    "        \n",
    "    return result"
   ]
  }
 ],
 "metadata": {
  "kernelspec": {
   "display_name": "Python 3",
   "language": "python",
   "name": "python3"
  },
  "language_info": {
   "codemirror_mode": {
    "name": "ipython",
    "version": 3
   },
   "file_extension": ".py",
   "mimetype": "text/x-python",
   "name": "python",
   "nbconvert_exporter": "python",
   "pygments_lexer": "ipython3",
   "version": "3.7.3"
  }
 },
 "nbformat": 4,
 "nbformat_minor": 2
}
