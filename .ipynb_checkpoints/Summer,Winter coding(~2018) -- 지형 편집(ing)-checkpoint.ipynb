{
 "cells": [
  {
   "cell_type": "code",
   "execution_count": 49,
   "metadata": {},
   "outputs": [],
   "source": [
    "land = [[4,4,3],[3,2,2],[2,1,0]]\n",
    "P = 5\n",
    "Q = 3\n",
    "# return 33"
   ]
  },
  {
   "cell_type": "code",
   "execution_count": 45,
   "metadata": {},
   "outputs": [],
   "source": [
    "land = [[1, 2], [2, 3]]\n",
    "P = 3\n",
    "Q = 2\n",
    "# return 5"
   ]
  },
  {
   "cell_type": "code",
   "execution_count": 39,
   "metadata": {},
   "outputs": [],
   "source": [
    "def cal(P, Q, land, threshold) :\n",
    "    result = 0\n",
    "    \n",
    "    for i in range(len(land)) :\n",
    "        for j in range(len(land)) :\n",
    "            if land[i][j] > threshold :\n",
    "                result += (land[i][j]-threshold)*Q\n",
    "            elif land[i][j] < threshold :\n",
    "                result += (threshold-land[i][j])*P\n",
    "            \n",
    "    return result\n",
    "\n",
    "def solution(land, P, Q) :\n",
    "    left = float('inf')\n",
    "    right = 0\n",
    "    \n",
    "    for i in range(len(land)) :\n",
    "        for j in range(len(land)) :\n",
    "            if land[i][j] < left :\n",
    "                left = land[i][j]\n",
    "            if land[i][j] > right :\n",
    "                right = land[i][j]\n",
    "\n",
    "    while left < right :\n",
    "        mid = (left+right)//2\n",
    "                \n",
    "        a = cal(P, Q, land, mid)\n",
    "        b = cal(P, Q, land, mid+1)\n",
    "        \n",
    "        print(f\"left: {left}, right: {right}, a: {a}, b: {b}\")\n",
    "\n",
    "        if a < b :\n",
    "            right = mid\n",
    "        else :\n",
    "            left = mid+1\n",
    "            \n",
    "    mins = float('inf')\n",
    "    for i in range(left-1, left+1) :\n",
    "        temp = cal(P, Q, land, i)\n",
    "        # print(f\"i: {i}, temp: {temp}\")\n",
    "        if temp < mins :\n",
    "            mins = temp\n",
    "            \n",
    "    return mins"
   ]
  },
  {
   "cell_type": "code",
   "execution_count": 40,
   "metadata": {},
   "outputs": [
    {
     "name": "stdout",
     "output_type": "stream",
     "text": [
      "left: 0, right: 4, a: 33, b: 46\n",
      "left: 0, right: 2, a: 44, b: 33\n"
     ]
    },
    {
     "data": {
      "text/plain": [
       "33"
      ]
     },
     "execution_count": 40,
     "metadata": {},
     "output_type": "execute_result"
    }
   ],
   "source": [
    "solution(land, P, Q)"
   ]
  },
  {
   "cell_type": "code",
   "execution_count": null,
   "metadata": {},
   "outputs": [],
   "source": []
  }
 ],
 "metadata": {
  "kernelspec": {
   "display_name": "Python 3",
   "language": "python",
   "name": "python3"
  },
  "language_info": {
   "codemirror_mode": {
    "name": "ipython",
    "version": 3
   },
   "file_extension": ".py",
   "mimetype": "text/x-python",
   "name": "python",
   "nbconvert_exporter": "python",
   "pygments_lexer": "ipython3",
   "version": "3.7.3"
  }
 },
 "nbformat": 4,
 "nbformat_minor": 2
}
