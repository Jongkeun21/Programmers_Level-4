{
 "cells": [
  {
   "cell_type": "code",
   "execution_count": 33,
   "metadata": {},
   "outputs": [],
   "source": [
    "def solution(sticker) :\n",
    "    length = len(sticker)\n",
    "    \n",
    "    if length <= 3 :\n",
    "        return max(sticker)\n",
    "    else :\n",
    "        a = [0] * length\n",
    "        a[0], a[1] = sticker[0], max(sticker[0], sticker[1])\n",
    "\n",
    "        b = [0] * length\n",
    "        b[1] = sticker[1]\n",
    "\n",
    "        for i in range(2, length-1) :\n",
    "            a[i] = max(a[i-2]+sticker[i], a[i-1])\n",
    "\n",
    "        for j in range(2, length) :\n",
    "            b[j] = max(b[j-2]+sticker[j], b[j-1])\n",
    "\n",
    "        return max(max(a), max(b))"
   ]
  }
 ],
 "metadata": {
  "kernelspec": {
   "display_name": "Python 3",
   "language": "python",
   "name": "python3"
  },
  "language_info": {
   "codemirror_mode": {
    "name": "ipython",
    "version": 3
   },
   "file_extension": ".py",
   "mimetype": "text/x-python",
   "name": "python",
   "nbconvert_exporter": "python",
   "pygments_lexer": "ipython3",
   "version": "3.7.3"
  }
 },
 "nbformat": 4,
 "nbformat_minor": 2
}
