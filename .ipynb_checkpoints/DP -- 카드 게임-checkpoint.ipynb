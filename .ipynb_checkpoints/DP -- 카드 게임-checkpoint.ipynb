{
 "cells": [
  {
   "cell_type": "markdown",
   "metadata": {},
   "source": [
    "1. 언제든지 왼쪽 카드 버릴 수 있음.\n",
    "2. 언제든지 왼쪽 카드와 오른쪽 카드를 둘 다 버릴 수 있음.\n",
    "3. 오른쪽 수가 왼쪽 수 보다 작은 경우 오른쪽 카드 버림, 점수 더해줌\n",
    "4. 남은 카드가 없는 쪽이 생기면 게임 끝."
   ]
  },
  {
   "cell_type": "code",
   "execution_count": null,
   "metadata": {},
   "outputs": [],
   "source": [
    "def solution(left, right) :\n",
    "    length = len(left)\n",
    "    result = [[0 for _ in range(length+1)] for _ in range(length+1)]\n",
    "    \n",
    "    for i in reversed(range(length)) :\n",
    "        for j in reversed(range(length)) :\n",
    "            if right[i] < left[j] :\n",
    "                result[i][j] = right[i] + result[i+1][j]\n",
    "            else :\n",
    "                result[i][j] = max(result[i+1][j+1], result[i][j+1])\n",
    "                \n",
    "    return result[0][0]"
   ]
  }
 ],
 "metadata": {
  "kernelspec": {
   "display_name": "Python 3",
   "language": "python",
   "name": "python3"
  },
  "language_info": {
   "codemirror_mode": {
    "name": "ipython",
    "version": 3
   },
   "file_extension": ".py",
   "mimetype": "text/x-python",
   "name": "python",
   "nbconvert_exporter": "python",
   "pygments_lexer": "ipython3",
   "version": "3.5.2"
  }
 },
 "nbformat": 4,
 "nbformat_minor": 2
}
