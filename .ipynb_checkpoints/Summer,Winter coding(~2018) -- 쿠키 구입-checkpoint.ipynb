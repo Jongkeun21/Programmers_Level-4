{
 "cells": [
  {
   "cell_type": "code",
   "execution_count": null,
   "metadata": {},
   "outputs": [],
   "source": [
    "def solution(cookie) :\n",
    "    maxs = 0\n",
    "    \n",
    "    if len(cookie) < 2 :\n",
    "        return 0\n",
    "    else :\n",
    "        for m in range(len(cookie)-1) :\n",
    "            idxLeft = m\n",
    "            idxRight = m+1\n",
    "            left = cookie[m]\n",
    "            right = cookie[m+1]\n",
    "\n",
    "            while 1 :\n",
    "                if left == right :\n",
    "                    maxs = max(maxs, left)\n",
    "\n",
    "                if left <= right and idxLeft > 0 :\n",
    "                    idxLeft -= 1\n",
    "                    left += cookie[idxLeft]\n",
    "                elif left >= right and idxRight < len(cookie)-1 :\n",
    "                    idxRight += 1\n",
    "                    right += cookie[idxRight]\n",
    "                else :\n",
    "                    break\n",
    "\n",
    "        return maxs"
   ]
  }
 ],
 "metadata": {
  "kernelspec": {
   "display_name": "Python 3",
   "language": "python",
   "name": "python3"
  },
  "language_info": {
   "codemirror_mode": {
    "name": "ipython",
    "version": 3
   },
   "file_extension": ".py",
   "mimetype": "text/x-python",
   "name": "python",
   "nbconvert_exporter": "python",
   "pygments_lexer": "ipython3",
   "version": "3.5.2"
  }
 },
 "nbformat": 4,
 "nbformat_minor": 2
}
