{
 "cells": [
  {
   "cell_type": "code",
   "execution_count": null,
   "metadata": {},
   "outputs": [],
   "source": [
    "from collections import deque\n",
    "\n",
    "def BFS(maps) :\n",
    "    n = len(maps)\n",
    "    m = len(maps[0])\n",
    "    queue = deque([(0, 0)])\n",
    "\n",
    "    while queue :\n",
    "        x, y = queue.popleft()\n",
    "        result = maps[x][y]\n",
    "\n",
    "        if x == n-1 and y == m-1 :\n",
    "            return result\n",
    "        else :\n",
    "            if y+1 < m and maps[x][y+1] == 1 :\n",
    "                queue.append((x, y+1))\n",
    "                maps[x][y+1] = result + 1\n",
    "            if x+1 < n and maps[x+1][y] == 1 :\n",
    "                queue.append((x+1, y))\n",
    "                maps[x+1][y] = result + 1\n",
    "            if y > 0 and maps[x][y-1] == 1 :\n",
    "                queue.append((x, y-1))\n",
    "                maps[x][y-1] = result + 1\n",
    "            if x > 0 and maps[x-1][y] == 1 :\n",
    "                queue.append((x-1, y))\n",
    "                maps[x-1][y] = result + 1\n",
    "                \n",
    "    return -1\n",
    "\n",
    "def solution(maps) :\n",
    "    answer = BFS(maps)\n",
    "    \n",
    "    return answer"
   ]
  }
 ],
 "metadata": {
  "kernelspec": {
   "display_name": "Python 3",
   "language": "python",
   "name": "python3"
  },
  "language_info": {
   "codemirror_mode": {
    "name": "ipython",
    "version": 3
   },
   "file_extension": ".py",
   "mimetype": "text/x-python",
   "name": "python",
   "nbconvert_exporter": "python",
   "pygments_lexer": "ipython3",
   "version": "3.7.3"
  }
 },
 "nbformat": 4,
 "nbformat_minor": 2
}
