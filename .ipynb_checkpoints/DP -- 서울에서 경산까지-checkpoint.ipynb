{
 "cells": [
  {
   "cell_type": "code",
   "execution_count": null,
   "metadata": {},
   "outputs": [],
   "source": [
    "def solution(K, travel) :\n",
    "    dp = [[0 for __ in range(K+1)] for _ in range(len(travel))]\n",
    "    dp[0][travel[0][0]] = travel[0][1]\n",
    "    dp[0][travel[0][2]] = travel[0][3]\n",
    "    answer = 0\n",
    "    \n",
    "    for i in range(1, len(travel)) :\n",
    "        for k in range(K) :\n",
    "            if dp[i-1][k] == 0 :\n",
    "                continue\n",
    "                \n",
    "            if k+travel[i][0] <= K :\n",
    "                dp[i][k+travel[i][0]] = max(dp[i][k+travel[i][0]], dp[i-1][k]+travel[i][1])\n",
    "                answer = max(answer, dp[i][k+travel[i][0]])\n",
    "\n",
    "            if k+travel[i][2] <= K :\n",
    "                dp[i][k+travel[i][2]] = max(dp[i][k+travel[i][2]], dp[i-1][k]+travel[i][3])\n",
    "                answer = max(answer, dp[i][k+travel[i][2]])\n",
    "                \n",
    "    return answer"
   ]
  }
 ],
 "metadata": {
  "kernelspec": {
   "display_name": "Python 3",
   "language": "python",
   "name": "python3"
  },
  "language_info": {
   "codemirror_mode": {
    "name": "ipython",
    "version": 3
   },
   "file_extension": ".py",
   "mimetype": "text/x-python",
   "name": "python",
   "nbconvert_exporter": "python",
   "pygments_lexer": "ipython3",
   "version": "3.7.3"
  }
 },
 "nbformat": 4,
 "nbformat_minor": 2
}
