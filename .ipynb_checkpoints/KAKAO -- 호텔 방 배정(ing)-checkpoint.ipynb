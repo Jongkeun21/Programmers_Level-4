{
 "cells": [
  {
   "cell_type": "code",
   "execution_count": 4,
   "metadata": {},
   "outputs": [],
   "source": [
    "k = 10\n",
    "room_number = [1,3,4,1,3,1]"
   ]
  },
  {
   "cell_type": "code",
   "execution_count": 7,
   "metadata": {},
   "outputs": [],
   "source": [
    "class Variables:\n",
    "    room = {}\n",
    "\n",
    "def isEmpty(num) :\n",
    "    if Variables.room[num] == 0 :\n",
    "        return num\n",
    "    else :\n",
    "        return isEmpty(Variables.room[num])\n",
    "\n",
    "def solution(k, room_number) :\n",
    "    result = []\n",
    "    Variables.room = {i+1: 0 for i in range(k)}\n",
    "    \n",
    "    for num in room_number :\n",
    "        print(f\"num: {num}\")\n",
    "        if Variables.room[num] == 0 :\n",
    "            result.append(num)\n",
    "            Variables.room[num] = isEmpty(num+1)\n",
    "            print(f\"Variables.room: {Variables.room}\")\n",
    "        else :\n",
    "            temp = isEmpty(num)\n",
    "            print(f\"temp: {temp}\")\n",
    "            result.append(temp)\n",
    "            Variables.room[temp] = isEmpty(temp+1)\n",
    "            print(f\"Variables.room: {Variables.room}\")\n",
    "            \n",
    "    return result"
   ]
  },
  {
   "cell_type": "code",
   "execution_count": 8,
   "metadata": {},
   "outputs": [
    {
     "name": "stdout",
     "output_type": "stream",
     "text": [
      "num: 1\n",
      "Variables.room: {1: 2, 2: 0, 3: 0, 4: 0, 5: 0, 6: 0, 7: 0, 8: 0, 9: 0, 10: 0}\n",
      "num: 3\n",
      "Variables.room: {1: 2, 2: 0, 3: 4, 4: 0, 5: 0, 6: 0, 7: 0, 8: 0, 9: 0, 10: 0}\n",
      "num: 4\n",
      "Variables.room: {1: 2, 2: 0, 3: 4, 4: 5, 5: 0, 6: 0, 7: 0, 8: 0, 9: 0, 10: 0}\n",
      "num: 1\n",
      "temp: 2\n",
      "Variables.room: {1: 2, 2: 5, 3: 4, 4: 5, 5: 0, 6: 0, 7: 0, 8: 0, 9: 0, 10: 0}\n",
      "num: 3\n",
      "temp: 5\n",
      "Variables.room: {1: 2, 2: 5, 3: 4, 4: 5, 5: 6, 6: 0, 7: 0, 8: 0, 9: 0, 10: 0}\n",
      "num: 1\n",
      "temp: 6\n",
      "Variables.room: {1: 2, 2: 5, 3: 4, 4: 5, 5: 6, 6: 7, 7: 0, 8: 0, 9: 0, 10: 0}\n"
     ]
    },
    {
     "data": {
      "text/plain": [
       "[1, 3, 4, 2, 5, 6]"
      ]
     },
     "execution_count": 8,
     "metadata": {},
     "output_type": "execute_result"
    }
   ],
   "source": [
    "solution(k, room_number)"
   ]
  },
  {
   "cell_type": "code",
   "execution_count": null,
   "metadata": {},
   "outputs": [],
   "source": []
  }
 ],
 "metadata": {
  "kernelspec": {
   "display_name": "Python 3",
   "language": "python",
   "name": "python3"
  },
  "language_info": {
   "codemirror_mode": {
    "name": "ipython",
    "version": 3
   },
   "file_extension": ".py",
   "mimetype": "text/x-python",
   "name": "python",
   "nbconvert_exporter": "python",
   "pygments_lexer": "ipython3",
   "version": "3.7.3"
  }
 },
 "nbformat": 4,
 "nbformat_minor": 2
}
