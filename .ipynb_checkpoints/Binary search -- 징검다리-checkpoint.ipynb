{
 "cells": [
  {
   "cell_type": "code",
   "execution_count": null,
   "metadata": {},
   "outputs": [],
   "source": [
    "def solution(distance, rocks, n) :\n",
    "    rocks.sort()\n",
    "    start, end = 0, distance\n",
    "    \n",
    "    while start <= end :\n",
    "        mid = (start+end)//2\n",
    "        min_ = float('inf')\n",
    "        curr = 0\n",
    "        count = 0\n",
    "\n",
    "        for i in range(len(rocks)) :\n",
    "            if (rocks[i]-curr) < mid :\n",
    "                count += 1\n",
    "            else :\n",
    "                min_ = min(min_, rocks[i]-curr)\n",
    "                curr = rocks[i]\n",
    "\n",
    "        if count > n :\n",
    "            end = mid-1\n",
    "        else :\n",
    "            start = mid+1\n",
    "            answer = min_\n",
    "            \n",
    "    return answer"
   ]
  }
 ],
 "metadata": {
  "kernelspec": {
   "display_name": "Python 3",
   "language": "python",
   "name": "python3"
  },
  "language_info": {
   "codemirror_mode": {
    "name": "ipython",
    "version": 3
   },
   "file_extension": ".py",
   "mimetype": "text/x-python",
   "name": "python",
   "nbconvert_exporter": "python",
   "pygments_lexer": "ipython3",
   "version": "3.7.3"
  }
 },
 "nbformat": 4,
 "nbformat_minor": 2
}
