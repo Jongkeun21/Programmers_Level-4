{
 "cells": [
  {
   "cell_type": "code",
   "execution_count": null,
   "metadata": {},
   "outputs": [],
   "source": [
    "def solution(matrix_sizes) :\n",
    "    M = [[0 for _ in range(len(matrix_sizes)+1)] for __ in range(len(matrix_sizes)+1)]\n",
    "    d = []\n",
    "\n",
    "    for i in range(len(matrix_sizes)) :\n",
    "        for j in range(len(matrix_sizes[i])) :\n",
    "            if i != len(matrix_sizes)-1 :\n",
    "                if j == 0 :\n",
    "                    d.append(matrix_sizes[i][j])\n",
    "            else :\n",
    "                d.append(matrix_sizes[i][j])\n",
    "                \n",
    "    for diag in range(1, len(matrix_sizes)+1) :\n",
    "        for i in range(1, len(matrix_sizes)+1-diag) :\n",
    "            j = i+diag\n",
    "            M[i][j] = float('inf')\n",
    "\n",
    "            for k in range(i, j) :\n",
    "                M[i][j] = min(M[i][j], M[i][k]+M[k+1][j]+d[i-1]*d[k]*d[j])\n",
    "#                 print(f\"M[{i}][{j}]: {M[i][j]}\")\n",
    "                \n",
    "                \n",
    "    return M[1][len(matrix_sizes)]"
   ]
  }
 ],
 "metadata": {
  "kernelspec": {
   "display_name": "Python 3",
   "language": "python",
   "name": "python3"
  },
  "language_info": {
   "codemirror_mode": {
    "name": "ipython",
    "version": 3
   },
   "file_extension": ".py",
   "mimetype": "text/x-python",
   "name": "python",
   "nbconvert_exporter": "python",
   "pygments_lexer": "ipython3",
   "version": "3.7.3"
  }
 },
 "nbformat": 4,
 "nbformat_minor": 2
}
