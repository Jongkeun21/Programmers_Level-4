{
 "cells": [
  {
   "cell_type": "markdown",
   "metadata": {},
   "source": [
    "# 다른 사람 풀이 참조"
   ]
  },
  {
   "cell_type": "code",
   "execution_count": null,
   "metadata": {},
   "outputs": [],
   "source": [
    "def solution(strs, t) :\n",
    "    dp = {i: float('inf') for i in range(len(t))}\n",
    "    \n",
    "    for j in range(len(t)-1, -1, -1):\n",
    "        for k in range(1,6):\n",
    "    #         print(\"------------------------------------------------------------------\")\n",
    "    #         print(\"j: \", j, \"  k: \", k, \"  t[j:j+k]\", t[j:j+k])\n",
    "\n",
    "            if j+k > len(t) :\n",
    "                break\n",
    "\n",
    "            if t[j:j+k] in strs:\n",
    "    #             print(\"==============================================================\")\n",
    "    #             print(\"dp.get(j): \", dp.get(j), \"  dp.get(j+k, 0)+1: \", dp.get(j+k, 0)+1)\n",
    "                dp[j] = min(dp.get(j), dp.get(j+k, 0)+1)\n",
    "    #             print(\"dp: \", dp)\n",
    "\n",
    "    if dp[0] == float('inf') :\n",
    "        return -1\n",
    "    else :\n",
    "        return dp[0]"
   ]
  }
 ],
 "metadata": {
  "kernelspec": {
   "display_name": "Python 3",
   "language": "python",
   "name": "python3"
  },
  "language_info": {
   "codemirror_mode": {
    "name": "ipython",
    "version": 3
   },
   "file_extension": ".py",
   "mimetype": "text/x-python",
   "name": "python",
   "nbconvert_exporter": "python",
   "pygments_lexer": "ipython3",
   "version": "3.5.2"
  }
 },
 "nbformat": 4,
 "nbformat_minor": 2
}
