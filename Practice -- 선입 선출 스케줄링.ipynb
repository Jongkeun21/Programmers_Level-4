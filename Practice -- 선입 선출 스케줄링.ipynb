{
 "cells": [
  {
   "cell_type": "code",
   "execution_count": null,
   "metadata": {},
   "outputs": [],
   "source": [
    "def cal(time, n, length) :\n",
    "    return (time*(n-length))//length\n",
    "\n",
    "def parametric(cores, l, r, n) :\n",
    "    while l <= r :\n",
    "        mid = (l+r)//2\n",
    "        done = len(cores)\n",
    "        curr = 0\n",
    "        \n",
    "        for i in range(len(cores)) :\n",
    "            done += (mid//cores[i])\n",
    "            \n",
    "            if mid%cores[i] == 0 :\n",
    "                curr += 1\n",
    "                \n",
    "#         print(f\"done: {done}, curr: {curr}, l: {l}, r: {r}, mid: {mid}\")\n",
    "        \n",
    "        if done < n :\n",
    "            l = mid + 1\n",
    "        elif n <= done-curr :\n",
    "            r = mid - 1\n",
    "        else :\n",
    "            return done, curr, mid\n",
    "        \n",
    "def solution(n, cores) :\n",
    "    sorted_cores = sorted(cores)\n",
    "    length = len(cores)\n",
    "    count = 0\n",
    "    \n",
    "    l, r = cal(sorted_cores[0], n, length), cal(sorted_cores[-1], n, length)\n",
    "    done, curr, mid = parametric(cores, l, r, n)    \n",
    "\n",
    "    for i in range(len(cores)) :\n",
    "        if mid%cores[i] == 0 :\n",
    "            count += 1\n",
    "\n",
    "        if count == n-(done-curr) :\n",
    "            answer = i+1\n",
    "            break\n",
    "            \n",
    "    return answer"
   ]
  }
 ],
 "metadata": {
  "kernelspec": {
   "display_name": "Python 3",
   "language": "python",
   "name": "python3"
  },
  "language_info": {
   "codemirror_mode": {
    "name": "ipython",
    "version": 3
   },
   "file_extension": ".py",
   "mimetype": "text/x-python",
   "name": "python",
   "nbconvert_exporter": "python",
   "pygments_lexer": "ipython3",
   "version": "3.7.3"
  }
 },
 "nbformat": 4,
 "nbformat_minor": 2
}
