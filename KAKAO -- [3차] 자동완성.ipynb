{
 "cells": [
  {
   "cell_type": "code",
   "execution_count": null,
   "metadata": {},
   "outputs": [],
   "source": [
    "class Node(object) :\n",
    "    def __init__(self, key) :\n",
    "        self.key = key\n",
    "        self.count = {}\n",
    "        self.children = {}\n",
    "        \n",
    "class Trie(object) :\n",
    "    def __init__(self) :\n",
    "        self.head = Node(None)\n",
    "        \n",
    "    def insert(self, string) :\n",
    "        curr_node = self.head\n",
    "        \n",
    "        for char in string :\n",
    "            if char not in curr_node.children :\n",
    "                curr_node.children[char] = Node(char)\n",
    "                curr_node.count[char] = 1\n",
    "            else :\n",
    "                curr_node.count[char] += 1\n",
    "                \n",
    "            curr_node = curr_node.children[char]\n",
    "            \n",
    "    def getCount(self, word) :\n",
    "        curr_node = self.head\n",
    "        count = 0\n",
    "        flag = True\n",
    "        \n",
    "        for char in word :\n",
    "            if char in curr_node.children :                \n",
    "                if curr_node.count[char] == 1 :\n",
    "                    flag = False\n",
    "                    break\n",
    "                else :\n",
    "                    curr_node = curr_node.children[char]\n",
    "                \n",
    "            count += 1\n",
    "            \n",
    "        if flag :\n",
    "            return count\n",
    "        else :\n",
    "            return count+1\n",
    "\n",
    "def solution(words):\n",
    "    answer = 0\n",
    "    trie = Trie()\n",
    "    \n",
    "    for word in words :\n",
    "        trie.insert(word)\n",
    "        \n",
    "    for word in words :\n",
    "        answer += trie.getCount(word)\n",
    "    \n",
    "    return answer"
   ]
  }
 ],
 "metadata": {
  "kernelspec": {
   "display_name": "Python 3",
   "language": "python",
   "name": "python3"
  },
  "language_info": {
   "codemirror_mode": {
    "name": "ipython",
    "version": 3
   },
   "file_extension": ".py",
   "mimetype": "text/x-python",
   "name": "python",
   "nbconvert_exporter": "python",
   "pygments_lexer": "ipython3",
   "version": "3.7.3"
  }
 },
 "nbformat": 4,
 "nbformat_minor": 2
}
