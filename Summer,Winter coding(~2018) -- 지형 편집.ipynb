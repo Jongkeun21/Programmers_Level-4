{
 "cells": [
  {
   "cell_type": "markdown",
   "metadata": {},
   "source": [
    "# 효율성 실패"
   ]
  },
  {
   "cell_type": "code",
   "execution_count": 39,
   "metadata": {},
   "outputs": [],
   "source": [
    "def cal(P, Q, land, threshold) :\n",
    "    result = 0\n",
    "    \n",
    "    for i in range(len(land)) :\n",
    "        for j in range(len(land)) :\n",
    "            if land[i][j] > threshold :\n",
    "                result += (land[i][j]-threshold)*Q\n",
    "            elif land[i][j] < threshold :\n",
    "                result += (threshold-land[i][j])*P\n",
    "            \n",
    "    return result\n",
    "\n",
    "def solution(land, P, Q) :\n",
    "    left = float('inf')\n",
    "    right = 0\n",
    "    \n",
    "    for i in range(len(land)) :\n",
    "        for j in range(len(land)) :\n",
    "            if land[i][j] < left :\n",
    "                left = land[i][j]\n",
    "            if land[i][j] > right :\n",
    "                right = land[i][j]\n",
    "\n",
    "    while left < right :\n",
    "        mid = (left+right)//2\n",
    "                \n",
    "        a = cal(P, Q, land, mid)\n",
    "        b = cal(P, Q, land, mid+1)\n",
    "        \n",
    "        print(f\"left: {left}, right: {right}, a: {a}, b: {b}\")\n",
    "\n",
    "        if a < b :\n",
    "            right = mid\n",
    "        else :\n",
    "            left = mid+1\n",
    "            \n",
    "    mins = float('inf')\n",
    "    for i in range(left-1, left+1) :\n",
    "        temp = cal(P, Q, land, i)\n",
    "        # print(f\"i: {i}, temp: {temp}\")\n",
    "        if temp < mins :\n",
    "            mins = temp\n",
    "            \n",
    "    return mins"
   ]
  },
  {
   "cell_type": "markdown",
   "metadata": {},
   "source": [
    "# 다른 사람 풀이"
   ]
  },
  {
   "cell_type": "markdown",
   "metadata": {},
   "source": [
    "##### 1."
   ]
  },
  {
   "cell_type": "code",
   "execution_count": null,
   "metadata": {},
   "outputs": [],
   "source": [
    "def solution(land, P, Q) :\n",
    "    flatten = []\n",
    "    result = []\n",
    "\n",
    "    for i in range(len(land)) :\n",
    "        for j in range(len(land)) :\n",
    "            flatten.append(land[i][j])\n",
    "\n",
    "    flatten.sort()\n",
    "    \n",
    "    mins = ((len(land)**2)*Q)//(P+Q)\n",
    "    threshold = flatten[mins]\n",
    "    \n",
    "    for k in flatten :\n",
    "        if k < threshold :\n",
    "            result.append((threshold-k)*P)\n",
    "        else :\n",
    "            result.append((k-threshold)*Q)\n",
    "            \n",
    "    return sum(result)"
   ]
  },
  {
   "cell_type": "markdown",
   "metadata": {},
   "source": [
    "##### 2."
   ]
  },
  {
   "cell_type": "code",
   "execution_count": null,
   "metadata": {},
   "outputs": [],
   "source": [
    "from collections import defaultdict\n",
    "\n",
    "def solution(land, P, Q) :\n",
    "    dic = defaultdict(int)\n",
    "    \n",
    "    for i in range(len(land)) :\n",
    "        for j in range(len(land)) :\n",
    "            dic[land[i][j]] += 1\n",
    "            \n",
    "    heights = sorted(list(dic.keys()))\n",
    "    mins = 0\n",
    "    maxs = len(heights)-1\n",
    "    answer = 0\n",
    "    \n",
    "    while mins != maxs :\n",
    "        left = dic[heights[mins]]\n",
    "        right = dic[heights[maxs]]\n",
    "\n",
    "        if P*left < Q*right :\n",
    "            answer += P*left*(heights[mins+1]-heights[mins])\n",
    "            mins += 1\n",
    "            dic[heights[mins]] += left\n",
    "    #         print(f\"up, answer: {answer}, dic: {dic}\")\n",
    "        else :\n",
    "            answer += Q*right*(heights[maxs]-heights[maxs-1])\n",
    "            maxs -= 1\n",
    "            dic[heights[maxs]] += right\n",
    "    #         print(f\"down, answer: {answer}, dic: {dic}\")\n",
    "    \n",
    "    return answer"
   ]
  }
 ],
 "metadata": {
  "kernelspec": {
   "display_name": "Python 3",
   "language": "python",
   "name": "python3"
  },
  "language_info": {
   "codemirror_mode": {
    "name": "ipython",
    "version": 3
   },
   "file_extension": ".py",
   "mimetype": "text/x-python",
   "name": "python",
   "nbconvert_exporter": "python",
   "pygments_lexer": "ipython3",
   "version": "3.7.3"
  }
 },
 "nbformat": 4,
 "nbformat_minor": 2
}
