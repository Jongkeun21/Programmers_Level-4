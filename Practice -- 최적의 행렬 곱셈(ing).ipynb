{
 "cells": [
  {
   "cell_type": "markdown",
   "metadata": {},
   "source": [
    "1. 전체 행렬에 있어, 2개의 부분수열로 분리한다.\n",
    "2. 각 부분수열에 있어, 최소 비용을 구한 후 합쳐준다.\n",
    "3. 분리할 수 있을 때가지 부분수열의 길이를 늘려주면서 이 과정을 반복한다."
   ]
  },
  {
   "cell_type": "code",
   "execution_count": 1,
   "metadata": {},
   "outputs": [],
   "source": [
    "matrix_sizes = [[5,3],[3,10],[10,6]]\n",
    "# return 270"
   ]
  },
  {
   "cell_type": "code",
   "execution_count": null,
   "metadata": {},
   "outputs": [],
   "source": [
    "m = [[0 for _ in range(len(matrix_sizes))] for _ in range(len(matrix_sizes))]\n",
    "d = []"
   ]
  }
 ],
 "metadata": {
  "kernelspec": {
   "display_name": "Python 3",
   "language": "python",
   "name": "python3"
  },
  "language_info": {
   "codemirror_mode": {
    "name": "ipython",
    "version": 3
   },
   "file_extension": ".py",
   "mimetype": "text/x-python",
   "name": "python",
   "nbconvert_exporter": "python",
   "pygments_lexer": "ipython3",
   "version": "3.7.3"
  }
 },
 "nbformat": 4,
 "nbformat_minor": 2
}
