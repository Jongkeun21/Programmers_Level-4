{
 "cells": [
  {
   "cell_type": "code",
   "execution_count": 2,
   "metadata": {},
   "outputs": [],
   "source": [
    "import sys\n",
    "sys.setrecursionlimit(2000)\n",
    "from collections import defaultdict\n",
    "\n",
    "class Variables:\n",
    "    room = defaultdict(int)\n",
    "\n",
    "def isEmpty(num) :\n",
    "    if Variables.room[num] == 0 :\n",
    "#         print(\"Unoccupied\")\n",
    "        return num\n",
    "    else :\n",
    "        Variables.room[num] = isEmpty(Variables.room[num])\n",
    "#         print(\"Occupied\")\n",
    "        return Variables.room[num]\n",
    "\n",
    "def solution(k, room_number) :\n",
    "    result = []\n",
    "    \n",
    "    for num in room_number :\n",
    "#         print(f\"num: {num}\")\n",
    "        if Variables.room[num] == 0 :\n",
    "            result.append(num)\n",
    "            Variables.room[num] = isEmpty(num+1)\n",
    "#             print(f\"Variables.room: {Variables.room}\")\n",
    "        else :\n",
    "            temp = isEmpty(num)\n",
    "#             print(f\"temp: {temp}\")\n",
    "            result.append(temp)\n",
    "            Variables.room[temp] = isEmpty(temp+1)\n",
    "#             print(f\"Variables.room: {Variables.room}\")\n",
    "            \n",
    "    return result"
   ]
  }
 ],
 "metadata": {
  "kernelspec": {
   "display_name": "Python 3",
   "language": "python",
   "name": "python3"
  },
  "language_info": {
   "codemirror_mode": {
    "name": "ipython",
    "version": 3
   },
   "file_extension": ".py",
   "mimetype": "text/x-python",
   "name": "python",
   "nbconvert_exporter": "python",
   "pygments_lexer": "ipython3",
   "version": "3.7.3"
  }
 },
 "nbformat": 4,
 "nbformat_minor": 2
}
