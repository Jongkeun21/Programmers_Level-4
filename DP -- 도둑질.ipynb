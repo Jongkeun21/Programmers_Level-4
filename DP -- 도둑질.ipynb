{
 "cells": [
  {
   "cell_type": "code",
   "execution_count": null,
   "metadata": {},
   "outputs": [],
   "source": [
    "def solution(money) :\n",
    "    length = len(money)\n",
    "    \n",
    "    if length < 3 :\n",
    "        return max(money)\n",
    "    else :\n",
    "        a = [0]*length\n",
    "        a[0], a[1] = money[0], max(money[0], money[1])\n",
    "\n",
    "        b = [0]*length\n",
    "        b[0], b[1] = 0, money[1]\n",
    "        \n",
    "        # 0번째 집\n",
    "        for i in range(2, length-1) :\n",
    "            a[i] = max(a[i-2]+money[i], a[i-1])\n",
    "\n",
    "        # 1번째 집\n",
    "        for j in range(2, length) :\n",
    "            b[j] = max(b[j-2]+money[j], b[j-1])\n",
    "            \n",
    "        return max(max(a), max(b))"
   ]
  }
 ],
 "metadata": {
  "kernelspec": {
   "display_name": "Python 3",
   "language": "python",
   "name": "python3"
  },
  "language_info": {
   "codemirror_mode": {
    "name": "ipython",
    "version": 3
   },
   "file_extension": ".py",
   "mimetype": "text/x-python",
   "name": "python",
   "nbconvert_exporter": "python",
   "pygments_lexer": "ipython3",
   "version": "3.7.3"
  }
 },
 "nbformat": 4,
 "nbformat_minor": 2
}
